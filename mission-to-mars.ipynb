{
 "cells": [
  {
   "cell_type": "markdown",
   "metadata": {
    "slideshow": {
     "slide_type": "slide"
    }
   },
   "source": [
    "# Mission to Mars - Scraping"
   ]
  },
  {
   "cell_type": "code",
   "execution_count": 1,
   "metadata": {
    "slideshow": {
     "slide_type": "subslide"
    }
   },
   "outputs": [],
   "source": [
    "from splinter import Browser\n",
    "from bs4 import BeautifulSoup as bs\n",
    "import pandas as pd\n",
    "import requests\n",
    "import time"
   ]
  },
  {
   "cell_type": "code",
   "execution_count": 2,
   "metadata": {},
   "outputs": [],
   "source": [
    "# def init_browser():\n",
    "    # @NOTE: Replace the path with your actual path to the chromedriver\n",
    "executable_path = {\"executable_path\": \"/usr/local/bin/chromedriver\"}\n",
    "#     return Browser(\"chrome\", **executable_path, headless=False)\n",
    "browser = Browser(\"chrome\", **executable_path, headless=False)"
   ]
  },
  {
   "cell_type": "code",
   "execution_count": 3,
   "metadata": {},
   "outputs": [],
   "source": [
    "# create dictionary to capture mars data\n",
    "mars_data = {}"
   ]
  },
  {
   "cell_type": "markdown",
   "metadata": {},
   "source": [
    "### Visit NASA News site and get the latest news title and paragraph text"
   ]
  },
  {
   "cell_type": "code",
   "execution_count": 4,
   "metadata": {},
   "outputs": [],
   "source": [
    "# def scrape_info():\n",
    "# browser = init_browser()\n",
    "    \n",
    "# Visit NASA News Site\n",
    "url = \"https://mars.nasa.gov/news/\"\n",
    "browser.visit(url)\n",
    "\n",
    "# Scrape page into Soup\n",
    "html = browser.html\n",
    "soup = bs(html, \"html.parser\")\n",
    "\n",
    "time.sleep(1)"
   ]
  },
  {
   "cell_type": "code",
   "execution_count": 5,
   "metadata": {},
   "outputs": [
    {
     "name": "stdout",
     "output_type": "stream",
     "text": [
      "NASA's Treasure Map for Water Ice on Mars\n",
      "A new study identifies frozen water just below the Martian surface, where astronauts could easily dig it up.\n"
     ]
    }
   ],
   "source": [
    "try:\n",
    "    # Get the latest News Title \n",
    "    #result = soup.find('li', class_='slide')\n",
    "    result = soup.find('div', class_='image_and_description_container')\n",
    "    title = result.find('div', class_=\"content_title\").find('a').text\n",
    "    print(title)\n",
    "\n",
    "    # Get the latest News Title's Paragraph Text\n",
    "    #result = soup.find('li', class_='slide')\n",
    "    result = soup.find('div', class_='image_and_description_container')\n",
    "    news_p = result.find('div', class_=\"article_teaser_body\").text\n",
    "    print(news_p)\n",
    "\n",
    "    # Store data in a dictionary\n",
    "    mars_data['news_title'] = title\n",
    "    mars_data['news_para'] = news_p\n",
    "    \n",
    "#     # Return results\n",
    "#     return mars_data\n",
    "   \n",
    "#     # Close the browser after scraping\n",
    "#     browser.quit()\n",
    "\n",
    "except AttributeError as e:\n",
    "   print(e)\n"
   ]
  },
  {
   "cell_type": "markdown",
   "metadata": {},
   "source": [
    "### Visit url for JPL feactured space image"
   ]
  },
  {
   "cell_type": "code",
   "execution_count": 6,
   "metadata": {},
   "outputs": [],
   "source": [
    "# def scrape_info():\n",
    "#     browser = init_browser()\n",
    "\n",
    "# Visit url for JPL Featured Space Image\n",
    "url = \"https://www.jpl.nasa.gov/spaceimages/?search=&category=Mars\"\n",
    "browser.visit(url)\n",
    "\n",
    "time.sleep(4)\n",
    "\n",
    "#find and click \"full image\" button\n",
    "full_image = browser.find_link_by_partial_text('FULL IMAGE')\n",
    "full_image.click()\n",
    "\n",
    "time.sleep(4)\n",
    "\n",
    "#find and click \"more info\" button\n",
    "more_info = browser.find_link_by_partial_text('more info')\n",
    "more_info.click()\n",
    "\n",
    "time.sleep(2)\n",
    "\n",
    "# Scrape page into Soup\n",
    "html = browser.html\n",
    "soup = bs(html, \"html.parser\")"
   ]
  },
  {
   "cell_type": "code",
   "execution_count": 7,
   "metadata": {},
   "outputs": [
    {
     "name": "stdout",
     "output_type": "stream",
     "text": [
      "https://www.jpl.nasa.gov/spaceimages/images/largesize/PIA00271_hires.jpg\n"
     ]
    }
   ],
   "source": [
    "try:\n",
    "    featured_url = soup.find('figure', class_=\"lede\").a['href']\n",
    "    featured_image_url = \"https://www.jpl.nasa.gov\" + featured_url\n",
    "    print(featured_image_url)\n",
    "    \n",
    "    # Store data in a dictionary\n",
    "    mars_data['featured_image'] = featured_image_url\n",
    "\n",
    "\n",
    "#     # Return results\n",
    "#     return mars_data\n",
    "\n",
    "#     # Close the browser after scraping\n",
    "#     browser.quit()\n",
    "\n",
    "except AttributeError as e:\n",
    "   print(e)"
   ]
  },
  {
   "cell_type": "markdown",
   "metadata": {},
   "source": [
    "### Visit the Mars twitter account and get the latest tweet"
   ]
  },
  {
   "cell_type": "code",
   "execution_count": 8,
   "metadata": {},
   "outputs": [],
   "source": [
    "# def scrape_info():\n",
    "#     browser = init_browser()\n",
    "\n",
    "# Visit the Mars twitter account\n",
    "url = \"https://twitter.com/marswxreport?lang=en\"\n",
    "browser.visit(url)\n",
    "\n",
    "time.sleep(1)\n",
    "\n",
    "# Scrape page into Soup\n",
    "html = browser.html\n",
    "soup = bs(html, \"html.parser\")"
   ]
  },
  {
   "cell_type": "code",
   "execution_count": 9,
   "metadata": {},
   "outputs": [
    {
     "name": "stdout",
     "output_type": "stream",
     "text": [
      "InSight sol 373 (2019-12-14) low -98.1ºC (-144.6ºF) high -20.1ºC (-4.1ºF)\n",
      "winds from the SW at 4.9 m/s (11.1 mph) gusting to 19.7 m/s (44.0 mph)\n",
      "pressure at 6.60 hPapic.twitter.com/J9DKptw2oo\n"
     ]
    }
   ],
   "source": [
    "# Get the latest Mars weather tweet\n",
    "# result = soup.find_('div', class_='tweet', data-name_='Mars Weather')\n",
    "weather_tweet = soup.find(\"p\", class_=\"TweetTextSize TweetTextSize--normal js-tweet-text tweet-text\").text\n",
    "print(weather_tweet)"
   ]
  },
  {
   "cell_type": "code",
   "execution_count": 10,
   "metadata": {},
   "outputs": [
    {
     "name": "stdout",
     "output_type": "stream",
     "text": [
      "InSight sol 373 (2019-12-14) low -98.1ºC (-144.6ºF) high -20.1ºC (-4.1ºF)\n",
      "winds from the SW at 4.9 m/s (11.1 mph) gusting to 19.7 m/s (44.0 mph)\n",
      "pressure at 6.60 hPapic.twitter.com/J9DKptw2oo\n"
     ]
    }
   ],
   "source": [
    "# Get the latest Mars weather tweet\n",
    "# result = soup.find_('div', class_='tweet', data-name_='Mars Weather')\n",
    "weather_tweet = soup.find(\"p\", class_=\"TweetTextSize TweetTextSize--normal js-tweet-text tweet-text\").text\n",
    "print(weather_tweet)\n",
    " \n",
    "# Store data in a dictionary\n",
    "mars_data['weather_tweet'] = weather_tweet\n",
    "\n",
    "# # Return results\n",
    "# return mars_data\n",
    "\n",
    "# # Close the browser after scraping\n",
    "# browser.quit()\n"
   ]
  },
  {
   "cell_type": "markdown",
   "metadata": {},
   "source": [
    "### Visit the Mars Facts webpage and scrape the table containing facts about the planet."
   ]
  },
  {
   "cell_type": "code",
   "execution_count": 11,
   "metadata": {},
   "outputs": [],
   "source": [
    "# Visit the Mars Facts Webpage\n",
    "# def scrape_mars_facts():\n",
    "url = \"https://space-facts.com/mars/\"\n",
    "    \n",
    "# Use Pandas to scrape the table containing facts about the planet including Diameter, Mass, etc.\n",
    "facts_table = pd.read_html(url)\n",
    "facts_table\n",
    "    \n",
    "# Create Dataframe\n",
    "mars_df = facts_table[0]\n",
    "mars_df.columns = ['Item', 'Info']\n",
    "mars_df.head()\n",
    "    \n",
    "# Set the index to the Item column\n",
    "mars_df.set_index('Item', inplace=True)\n",
    "mars_df.head\n",
    "    \n",
    "# Generate HTML table from DataFrame\n",
    "#html_table = mars_df.to_html(index=False)\n",
    "html_table = mars_df.to_html()\n",
    "html_table\n",
    "    \n",
    "#strip unwanted lines\n",
    "html_table.replace('\\n', '')\n",
    "    \n",
    "# Store data in a dictionary\n",
    "mars_data['mars_facts'] = html_table\n",
    "    \n",
    "# # Return results\n",
    "# return mars_data\n"
   ]
  },
  {
   "cell_type": "code",
   "execution_count": 12,
   "metadata": {},
   "outputs": [
    {
     "data": {
      "text/plain": [
       "'<table border=\"1\" class=\"dataframe\">\\n  <thead>\\n    <tr style=\"text-align: right;\">\\n      <th></th>\\n      <th>Info</th>\\n    </tr>\\n    <tr>\\n      <th>Item</th>\\n      <th></th>\\n    </tr>\\n  </thead>\\n  <tbody>\\n    <tr>\\n      <th>Equatorial Diameter:</th>\\n      <td>6,792 km</td>\\n    </tr>\\n    <tr>\\n      <th>Polar Diameter:</th>\\n      <td>6,752 km</td>\\n    </tr>\\n    <tr>\\n      <th>Mass:</th>\\n      <td>6.39 × 10^23 kg (0.11 Earths)</td>\\n    </tr>\\n    <tr>\\n      <th>Moons:</th>\\n      <td>2 (Phobos &amp; Deimos)</td>\\n    </tr>\\n    <tr>\\n      <th>Orbit Distance:</th>\\n      <td>227,943,824 km (1.38 AU)</td>\\n    </tr>\\n    <tr>\\n      <th>Orbit Period:</th>\\n      <td>687 days (1.9 years)</td>\\n    </tr>\\n    <tr>\\n      <th>Surface Temperature:</th>\\n      <td>-87 to -5 °C</td>\\n    </tr>\\n    <tr>\\n      <th>First Record:</th>\\n      <td>2nd millennium BC</td>\\n    </tr>\\n    <tr>\\n      <th>Recorded By:</th>\\n      <td>Egyptian astronomers</td>\\n    </tr>\\n  </tbody>\\n</table>'"
      ]
     },
     "execution_count": 12,
     "metadata": {},
     "output_type": "execute_result"
    }
   ],
   "source": [
    "html_table"
   ]
  },
  {
   "cell_type": "code",
   "execution_count": null,
   "metadata": {},
   "outputs": [],
   "source": [
    "# print(mars_data)"
   ]
  },
  {
   "cell_type": "code",
   "execution_count": null,
   "metadata": {
    "slideshow": {
     "slide_type": "fragment"
    }
   },
   "outputs": [],
   "source": [
    "\n",
    "## Use Pandas to scrape the table containing facts about the planet including Diameter, Mass, etc.\n",
    "#facts_table = pd.read_html(url)\n",
    "#facts_table"
   ]
  },
  {
   "cell_type": "code",
   "execution_count": null,
   "metadata": {
    "slideshow": {
     "slide_type": "fragment"
    }
   },
   "outputs": [],
   "source": [
    "# # Create Dataframe\n",
    "# mars_df = facts_table[0]\n",
    "# mars_df.columns = ['Item', 'Info']\n",
    "# mars_df.head()"
   ]
  },
  {
   "cell_type": "code",
   "execution_count": null,
   "metadata": {
    "slideshow": {
     "slide_type": "fragment"
    }
   },
   "outputs": [],
   "source": [
    "# # Set the index to the Item column\n",
    "# mars_df.set_index('Item', inplace=True)\n",
    "# mars_df.head()"
   ]
  },
  {
   "cell_type": "code",
   "execution_count": null,
   "metadata": {
    "slideshow": {
     "slide_type": "fragment"
    }
   },
   "outputs": [],
   "source": [
    "# # Generate HTML table from DataFrame\n",
    "# # html_table = mars_df.to_html(index=False)\n",
    "# html_table = mars_df.to_html\n",
    "# html_table"
   ]
  },
  {
   "cell_type": "code",
   "execution_count": null,
   "metadata": {
    "slideshow": {
     "slide_type": "fragment"
    }
   },
   "outputs": [],
   "source": [
    "## strip unwanted newlines\n",
    "# html_table.replace('\\n', '')"
   ]
  },
  {
   "cell_type": "code",
   "execution_count": null,
   "metadata": {
    "slideshow": {
     "slide_type": "fragment"
    }
   },
   "outputs": [],
   "source": [
    "# # save html table to file\n",
    "# # df.to_html('table.html')\n",
    "\n",
    "# # Store data in a dictionary\n",
    "# mars_data['mars_facts'] = html_table"
   ]
  },
  {
   "cell_type": "markdown",
   "metadata": {},
   "source": [
    "### Visit the USGS Astrogeology site and get the latest hemisphere titles and images."
   ]
  },
  {
   "cell_type": "code",
   "execution_count": 13,
   "metadata": {},
   "outputs": [],
   "source": [
    "# def scrape_info():\n",
    "#     browser = init_browser()\n",
    "\n",
    "# Visit the USGS Astrogeology site\n",
    "url = \"https://astrogeology.usgs.gov/search/results?q=hemisphere+enhanced&k1=target&v1=Mars\"\n",
    "browser.visit(url)\n",
    "\n",
    "time.sleep(1)\n",
    "\n",
    "# Scrape page into Soup\n",
    "html = browser.html\n",
    "soup = bs(html, \"html.parser\")"
   ]
  },
  {
   "cell_type": "code",
   "execution_count": 14,
   "metadata": {},
   "outputs": [
    {
     "name": "stdout",
     "output_type": "stream",
     "text": [
      "[<div class=\"item\"><a class=\"itemLink product-item\" href=\"/search/map/Mars/Viking/cerberus_enhanced\"><img alt=\"Cerberus Hemisphere Enhanced thumbnail\" class=\"thumb\" src=\"/cache/images/dfaf3849e74bf973b59eb50dab52b583_cerberus_enhanced.tif_thumb.png\"/></a><div class=\"description\"><a class=\"itemLink product-item\" href=\"/search/map/Mars/Viking/cerberus_enhanced\"><h3>Cerberus Hemisphere Enhanced</h3></a><span class=\"subtitle\" style=\"float:left\">image/tiff 21 MB</span><span class=\"pubDate\" style=\"float:right\"></span><br/><p>Mosaic of the Cerberus hemisphere of Mars projected into point perspective, a view similar to that which one would see from a spacecraft. This mosaic is composed of 104 Viking Orbiter images acquired…</p></div> <!-- end description --></div>, <div class=\"item\"><a class=\"itemLink product-item\" href=\"/search/map/Mars/Viking/schiaparelli_enhanced\"><img alt=\"Schiaparelli Hemisphere Enhanced thumbnail\" class=\"thumb\" src=\"/cache/images/7677c0a006b83871b5a2f66985ab5857_schiaparelli_enhanced.tif_thumb.png\"/></a><div class=\"description\"><a class=\"itemLink product-item\" href=\"/search/map/Mars/Viking/schiaparelli_enhanced\"><h3>Schiaparelli Hemisphere Enhanced</h3></a><span class=\"subtitle\" style=\"float:left\">image/tiff 35 MB</span><span class=\"pubDate\" style=\"float:right\"></span><br/><p>Mosaic of the Schiaparelli hemisphere of Mars projected into point perspective, a view similar to that which one would see from a spacecraft. The images were acquired in 1980 during early northern…</p></div> <!-- end description --></div>, <div class=\"item\"><a class=\"itemLink product-item\" href=\"/search/map/Mars/Viking/syrtis_major_enhanced\"><img alt=\"Syrtis Major Hemisphere Enhanced thumbnail\" class=\"thumb\" src=\"/cache/images/aae41197e40d6d4f3ea557f8cfe51d15_syrtis_major_enhanced.tif_thumb.png\"/></a><div class=\"description\"><a class=\"itemLink product-item\" href=\"/search/map/Mars/Viking/syrtis_major_enhanced\"><h3>Syrtis Major Hemisphere Enhanced</h3></a><span class=\"subtitle\" style=\"float:left\">image/tiff 25 MB</span><span class=\"pubDate\" style=\"float:right\"></span><br/><p>Mosaic of the Syrtis Major hemisphere of Mars projected into point perspective, a view similar to that which one would see from a spacecraft. This mosaic is composed of about 100 red and violet…</p></div> <!-- end description --></div>, <div class=\"item\"><a class=\"itemLink product-item\" href=\"/search/map/Mars/Viking/valles_marineris_enhanced\"><img alt=\"Valles Marineris Hemisphere Enhanced thumbnail\" class=\"thumb\" src=\"/cache/images/04085d99ec3713883a9a57f42be9c725_valles_marineris_enhanced.tif_thumb.png\"/></a><div class=\"description\"><a class=\"itemLink product-item\" href=\"/search/map/Mars/Viking/valles_marineris_enhanced\"><h3>Valles Marineris Hemisphere Enhanced</h3></a><span class=\"subtitle\" style=\"float:left\">image/tiff 27 MB</span><span class=\"pubDate\" style=\"float:right\"></span><br/><p>Mosaic of the Valles Marineris hemisphere of Mars projected into point perspective, a view similar to that which one would see from a spacecraft. The distance is 2500 kilometers from the surface of…</p></div> <!-- end description --></div>]\n"
     ]
    }
   ],
   "source": [
    "# create list to capture data\n",
    "hemisphere_image_urls = []\n",
    "\n",
    "# Get the latest Hemisphere Images and Titles\n",
    "result = soup.find('div', class_=\"collapsible results\").find_all('div', class_=\"item\")\n",
    "print(result)"
   ]
  },
  {
   "cell_type": "code",
   "execution_count": 15,
   "metadata": {},
   "outputs": [
    {
     "name": "stdout",
     "output_type": "stream",
     "text": [
      "https://astrogeology.usgs.gov/search/map/Mars/Viking/cerberus_enhanced\n",
      "https://astrogeology.usgs.gov/search/map/Mars/Viking/schiaparelli_enhanced\n",
      "https://astrogeology.usgs.gov/search/map/Mars/Viking/syrtis_major_enhanced\n",
      "https://astrogeology.usgs.gov/search/map/Mars/Viking/valles_marineris_enhanced\n",
      "[{'title': 'Cerberus Hemisphere', 'image_url': 'http://astropedia.astrogeology.usgs.gov/download/Mars/Viking/cerberus_enhanced.tif/full.jpg'}, {'title': 'Schiaparelli Hemisphere', 'image_url': 'http://astropedia.astrogeology.usgs.gov/download/Mars/Viking/schiaparelli_enhanced.tif/full.jpg'}, {'title': 'Syrtis Major Hemisphere', 'image_url': 'http://astropedia.astrogeology.usgs.gov/download/Mars/Viking/syrtis_major_enhanced.tif/full.jpg'}, {'title': 'Valles Marineris Hemisphere', 'image_url': 'http://astropedia.astrogeology.usgs.gov/download/Mars/Viking/valles_marineris_enhanced.tif/full.jpg'}]\n"
     ]
    }
   ],
   "source": [
    "#Loop through result data for title and image\n",
    "for hemisphere in result:\n",
    "    \n",
    "    #get image title\n",
    "    descr = hemisphere.find('div', class_=\"description\").find('a', class_=\"itemLink product-item\").h3.text\n",
    "    \n",
    "    #remove \"enhanced\" from title\n",
    "    h_title = ' '.join(descr.split()[0:-1])\n",
    "                                                              \n",
    "    #get image url\n",
    "    h_image = hemisphere.find('a', class_=\"itemLink product-item\")['href']\n",
    "    h_image_url =  'https://astrogeology.usgs.gov' + h_image\n",
    "    print(h_image_url)\n",
    "                                                              \n",
    "    #get full image (high resolution)\n",
    "    browser.visit(h_image_url)\n",
    "    time.sleep(1)\n",
    "    #h_image_url = browser.html\n",
    "    #data = soup(h_image_url, 'html.parser')\n",
    "    #full_image_url = data.find('div', class_=\"downloads\").a['href']\n",
    "    find_image = browser.find_link_by_text('Sample').first\n",
    "    full_image_url = find_image['href']\n",
    "   \n",
    "        \n",
    "    # Store data in a dictionary\n",
    "    h_data = {\n",
    "        \"title\" : h_title,\n",
    "        \"image_url\" : full_image_url\n",
    "    }\n",
    "    \n",
    "    #add data to list\n",
    "    hemisphere_image_urls.append(h_data)\n",
    "            \n",
    "print(hemisphere_image_urls)"
   ]
  },
  {
   "cell_type": "code",
   "execution_count": null,
   "metadata": {},
   "outputs": [],
   "source": [
    "# # def scrape_info():\n",
    "# #     browser = init_browser()\n",
    "\n",
    "# # Visit the USGS Astrogeology site\n",
    "# url = \"https://astrogeology.usgs.gov/search/results?q=hemisphere+enhanced&k1=target&v1=Mars\"\n",
    "# browser.visit(url)\n",
    "\n",
    "# time.sleep(1)\n",
    "\n",
    "# # Scrape page into Soup\n",
    "# html = browser.html\n",
    "# soup = bs(html, \"html.parser\")\n",
    "\n",
    "# # create list to capture data\n",
    "# hemisphere_image_urls = []\n",
    "\n",
    "# # Get the latest Hemisphere Images and Titles\n",
    "# result = soup.find('div', class_=\"collapsible results\").find_all('div', class_=\"item\")\n",
    "# print(result)\n",
    "\n",
    "# #Loop through result data for title and image\n",
    "# for hemisphere in result:\n",
    "\n",
    "#     #get image title\n",
    "#     descr = hemisphere.find('div', class_=\"description\").find('a', class_=\"itemLink product-item\").h3.text\n",
    "\n",
    "#     #remove \"enhanced\" from title\n",
    "#     h_title = ' '.join(descr.split()[0:-1])\n",
    "\n",
    "#     #get image url\n",
    "#     h_image = hemisphere.find('a', class_=\"itemLink product-item\")['href']\n",
    "#     h_image_url =  'https://astrogeology.usgs.gov' + h_image\n",
    "#     print(h_image_url)\n",
    "\n",
    "#     #get full image (high resolution)\n",
    "#     browser.visit(h_image_url)\n",
    "#     time.sleep(1)\n",
    "    \n",
    "#     #h_image_url = browser.html\n",
    "#     #data = soup(h_image_url, 'html.parser')\n",
    "#     #full_image_url = data.find('div', class_=\"downloads\").a['href']\n",
    "#     find_image = browser.find_link_by_text('Sample').first\n",
    "#     full_image_url = find_image['href']\n",
    "\n",
    "\n",
    "#     # Store data in a dictionary\n",
    "#     h_data = {\n",
    "#         \"title\" : h_title,\n",
    "#         \"image_url\" : full_image_url\n",
    "#     }\n",
    "\n",
    "#     #add data to list\n",
    "#     hemisphere_image_urls.append(h_data)\n",
    "\n",
    "# # Store data in a dictionary\n",
    "# mars_data['hemisphere_info'] = hemisphere_image_urls\n",
    "\n",
    "# # Return results\n",
    "# return mars_data\n",
    "\n"
   ]
  },
  {
   "cell_type": "code",
   "execution_count": 16,
   "metadata": {},
   "outputs": [
    {
     "name": "stdout",
     "output_type": "stream",
     "text": [
      "{'news_title': \"NASA's Treasure Map for Water Ice on Mars\", 'news_para': 'A new study identifies frozen water just below the Martian surface, where astronauts could easily dig it up.', 'featured_image': '/spaceimages/images/largesize/PIA16028_hires.jpg', 'weather_tweet': 'https://www.nasa.gov/press-release/goddard/2019/mars-proton-aurora-common/\\xa0…', 'mars_facts': '<table border=\"1\" class=\"dataframe\">\\n  <thead>\\n    <tr style=\"text-align: right;\">\\n      <th>Info</th>\\n    </tr>\\n  </thead>\\n  <tbody>\\n    <tr>\\n      <td>6,792 km</td>\\n    </tr>\\n    <tr>\\n      <td>6,752 km</td>\\n    </tr>\\n    <tr>\\n      <td>6.39 × 10^23 kg (0.11 Earths)</td>\\n    </tr>\\n    <tr>\\n      <td>2 (Phobos &amp; Deimos)</td>\\n    </tr>\\n    <tr>\\n      <td>227,943,824 km (1.38 AU)</td>\\n    </tr>\\n    <tr>\\n      <td>687 days (1.9 years)</td>\\n    </tr>\\n    <tr>\\n      <td>-87 to -5 °C</td>\\n    </tr>\\n    <tr>\\n      <td>2nd millennium BC</td>\\n    </tr>\\n    <tr>\\n      <td>Egyptian astronomers</td>\\n    </tr>\\n  </tbody>\\n</table>'}\n"
     ]
    }
   ],
   "source": [
    "print(mars_data)"
   ]
  },
  {
   "cell_type": "code",
   "execution_count": 17,
   "metadata": {},
   "outputs": [],
   "source": [
    "# Close the browser after scraping\n",
    "browser.quit()"
   ]
  },
  {
   "cell_type": "code",
   "execution_count": null,
   "metadata": {},
   "outputs": [],
   "source": []
  }
 ],
 "metadata": {
  "kernelspec": {
   "display_name": "Python 3",
   "language": "python",
   "name": "python3"
  },
  "language_info": {
   "codemirror_mode": {
    "name": "ipython",
    "version": 3
   },
   "file_extension": ".py",
   "mimetype": "text/x-python",
   "name": "python",
   "nbconvert_exporter": "python",
   "pygments_lexer": "ipython3",
   "version": "3.7.3"
  },
  "varInspector": {
   "cols": {
    "lenName": 16,
    "lenType": 16,
    "lenVar": 40
   },
   "kernels_config": {
    "python": {
     "delete_cmd_postfix": "",
     "delete_cmd_prefix": "del ",
     "library": "var_list.py",
     "varRefreshCmd": "print(var_dic_list())"
    },
    "r": {
     "delete_cmd_postfix": ") ",
     "delete_cmd_prefix": "rm(",
     "library": "var_list.r",
     "varRefreshCmd": "cat(var_dic_list()) "
    }
   },
   "types_to_exclude": [
    "module",
    "function",
    "builtin_function_or_method",
    "instance",
    "_Feature"
   ],
   "window_display": false
  }
 },
 "nbformat": 4,
 "nbformat_minor": 2
}
